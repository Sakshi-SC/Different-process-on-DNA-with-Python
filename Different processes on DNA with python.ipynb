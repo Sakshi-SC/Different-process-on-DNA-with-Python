{
  "nbformat": 4,
  "nbformat_minor": 0,
  "metadata": {
    "colab": {
      "provenance": []
    },
    "kernelspec": {
      "name": "python3",
      "display_name": "Python 3"
    },
    "language_info": {
      "name": "python"
    }
  },
  "cells": [
    {
      "cell_type": "markdown",
      "source": [
        " Function to validate DNA sequences\n"
      ],
      "metadata": {
        "id": "_oKJkckOQ_bU"
      }
    },
    {
      "cell_type": "code",
      "source": [
        "def validate_base_sequence(dna_seq):\n",
        "   #define_a_set_of_valid_nucleotide_bases\n",
        "   valid_bases = {'A', 'T', 'G', 'C'}\n",
        "\n",
        "   #check_if_all_characters_in_the_DNA_sequence_are_in_the_valid_bases_set\n",
        "   return all(base in valid_bases for base in dna_seq)\n",
        "\n",
        "\n",
        "seq1 = \"ATGCTGTAGGTAAGTAAGCG\"\n",
        "seq2 = \"ATGXGMGGGTCTA\"\n",
        "\n",
        "if validate_base_sequence(seq1):\n",
        "   print(f\"seq1 is a valid DNA sequence.\")\n",
        "else:\n",
        "   print(f\"seq1 contains invalid bases.\")\n",
        "\n",
        "if validate_base_sequence(seq2):\n",
        "   print(f\"seq2 is a valid DNA sequence.\")\n",
        "else:\n",
        "   print(f\"seq2 contains invalid bases.\")\n",
        "\n"
      ],
      "metadata": {
        "colab": {
          "base_uri": "https://localhost:8080/"
        },
        "id": "T6PdlrvGQZcV",
        "outputId": "3bce4cbc-92eb-4e42-ce6b-1c4e6e0eed08"
      },
      "execution_count": null,
      "outputs": [
        {
          "output_type": "stream",
          "name": "stdout",
          "text": [
            "seq1 is a valid DNA sequence.\n",
            "seq2 contains invalid bases.\n"
          ]
        }
      ]
    },
    {
      "cell_type": "markdown",
      "source": [
        " Restriction sites in a DNA sequence"
      ],
      "metadata": {
        "id": "kFNEVXvEQeMT"
      }
    },
    {
      "cell_type": "code",
      "source": [
        "# Define the function for recognizing restriction sites\n",
        "def find_recognition_sites(dna_seq, recognition_site):\n",
        "    sites = []\n",
        "    site_length = len(recognition_site)\n",
        "\n",
        "    # Iterates through the DNA sequence and checks if the current subsequence of the same length as the recognition site matches the recognition site\n",
        "    for i in range(len(dna_seq) - site_length + 1):\n",
        "        if dna_seq[i:i+site_length] == recognition_site:\n",
        "            sites.append(i)\n",
        "\n",
        "    return sites\n",
        "\n",
        "\n",
        "dna_seq = \"AATGCTAGCTAGCTGCTAGCTGCTAGCTAGCTAGCTAGCTAGCTAGCTAGCTAGCTAGCTAGCTAGC\"\n",
        "recognition_site = \"GCTAGC\"\n",
        "\n",
        "site_positions = find_recognition_sites(dna_seq, recognition_site)\n",
        "\n",
        "if site_positions:\n",
        "    print(f\"Recognition site '{recognition_site}' found at positions: {', '.join(map(str, site_positions))}\")\n",
        "else:\n",
        "    print(f\"Recognition site '{recognition_site}' not found in the sequence.\")\n"
      ],
      "metadata": {
        "colab": {
          "base_uri": "https://localhost:8080/"
        },
        "id": "e19TnSXYQZ6U",
        "outputId": "ce2dd13e-aa7a-4d3b-b0e1-67d18f9de312"
      },
      "execution_count": null,
      "outputs": [
        {
          "output_type": "stream",
          "name": "stdout",
          "text": [
            "Recognition site 'GCTAGC' found at positions: 3, 7, 14, 21, 25, 29, 33, 37, 41, 45, 49, 53, 57, 61\n"
          ]
        }
      ]
    },
    {
      "cell_type": "markdown",
      "source": [
        "Comparing two DNA sequences of equal length and calculating their percentage identity\n"
      ],
      "metadata": {
        "id": "C4G-kvWtOlut"
      }
    },
    {
      "cell_type": "code",
      "source": [
        "# Function for comparing two DNA sequences of equal length and calculating their percentage identity\n",
        "def compare_dna_seq(seq1, seq2):\n",
        "    if len(seq1) != len(seq2):\n",
        "        return None\n",
        "\n",
        "    matching_nucleotides = 0\n",
        "    total_nucleotides = len(seq1)\n",
        "\n",
        "    for i in range(total_nucleotides):\n",
        "        if seq1[i] == seq2[i]:\n",
        "            matching_nucleotides += 1\n",
        "\n",
        "    if total_nucleotides > 0:\n",
        "        percentage_identity = (matching_nucleotides / total_nucleotides) * 100\n",
        "    else:\n",
        "        percentage_identity = 0\n",
        "\n",
        "    return percentage_identity\n",
        "\n",
        "\n",
        "seq1 = \"ATGCTGCATAGCGATAA\"\n",
        "seq2 = \"ATGCTCGTATAGCGTAA\"\n",
        "identity = compare_dna_seq(seq1, seq2)\n",
        "\n",
        "if identity is not None:\n",
        "    print(\"Percentage Identity:\", f\"{identity:.2f}%\")\n",
        "else:\n",
        "    print(\"Sequences have different lengths and cannot be compared.\")\n"
      ],
      "metadata": {
        "colab": {
          "base_uri": "https://localhost:8080/"
        },
        "id": "NjsThUpFrBHr",
        "outputId": "2e529d68-b823-4953-837a-5afbcb885ba7"
      },
      "execution_count": null,
      "outputs": [
        {
          "output_type": "stream",
          "name": "stdout",
          "text": [
            "Percentage Identity: 47.06%\n"
          ]
        }
      ]
    },
    {
      "cell_type": "markdown",
      "source": [
        "Find the start codon and stop codon"
      ],
      "metadata": {
        "id": "tBdmbc46NPgt"
      }
    },
    {
      "cell_type": "code",
      "source": [
        " #Functions to find the start codon and stop codon\n",
        "\n",
        "#defining_function_for_start_codon\n",
        "def find_start_codon(rna_seq):\n",
        "   start_codon = \"AUG\"\n",
        "   start_index = rna_seq.find(start_codon)\n",
        "   return start_index\n",
        "\n",
        "#defining_function_for_stop_codon\n",
        "def find_stop_codon(rna_seq):\n",
        "   stop_codons = [\"UAA\", \"UAG\", \"UGA\"]\n",
        "   for stop_codon in stop_codons:\n",
        "       stop_index = rna_seq.find(stop_codon)\n",
        "       if stop_index != -1:\n",
        "           return stop_index\n",
        "   return -1\n",
        "\n",
        "#Input_mRNA_sequence\n",
        "rna_seq = \"AUGGUACCUUAAAGGGCUAGAGTCGAAAUAGCGUAGUCG\"\n",
        "start_index = find_start_codon(rna_seq)\n",
        "stop_index = find_stop_codon(rna_seq)\n",
        "\n",
        "if start_index != -1:\n",
        "   print(f\"Start codon found at index {start_index}\")\n",
        "else:\n",
        "   print(\"Start codon not found in the sequence\")\n",
        "\n",
        "if stop_index != -1:\n",
        "   print(f\"Stop codon found at index {stop_index}\")\n",
        "else:\n",
        "   print(\"Stop codon not found in the sequence\")\n"
      ],
      "metadata": {
        "colab": {
          "base_uri": "https://localhost:8080/"
        },
        "id": "qbrtRkK4rBWj",
        "outputId": "4cc7fb6a-97d7-4475-cd66-6d8e7d65cfac"
      },
      "execution_count": null,
      "outputs": [
        {
          "output_type": "stream",
          "name": "stdout",
          "text": [
            "Start codon found at index 0\n",
            "Stop codon found at index 9\n"
          ]
        }
      ]
    },
    {
      "cell_type": "markdown",
      "source": [
        "Find the overlapping region between two DNA sequences"
      ],
      "metadata": {
        "id": "LpC6AI0XL4JU"
      }
    },
    {
      "cell_type": "code",
      "source": [
        "def find_overlap(seq1, seq2):\n",
        "    overlap = 0\n",
        "    for i in range(1, min(len(seq1), len(seq2)) + 1):\n",
        "        if seq1[-i:] == seq2[:i]:\n",
        "            overlap = i\n",
        "    return overlap\n",
        "\n",
        "def extract_overlap(seq1, seq2, overlap):\n",
        "    return seq1 + seq2[overlap:]\n",
        "\n",
        "def find_and_extract_overlap(seq1, seq2):\n",
        "    overlap = find_overlap(seq1, seq2)\n",
        "    if overlap > 0:\n",
        "        overlapping_seq = extract_overlap(seq1, seq2, overlap)\n",
        "        return overlap, overlapping_seq, seq2[:overlap]\n",
        "    else:\n",
        "        return 0, None, None\n",
        "\n",
        "\n",
        "seq1 = \"TCGGTCACTTACGAGCGTTAGG\"\n",
        "seq2 = \"CGTTAGGCGGTAACCCCTTAAAGTCGG\"\n",
        "\n",
        "overlap, overlapping_seq, overlapped_portion = find_and_extract_overlap(seq1, seq2)\n",
        "\n",
        "if overlap > 0:\n",
        "    print(f\"No of bases that overlap between the two sequences: {overlap} bases\")\n",
        "    print(f\"The new overlapping sequence: {overlapping_seq}\")\n",
        "    print(f\"Overlapped portion: {overlapped_portion}\")\n",
        "else:\n",
        "    print(\"No overlap found between the two sequences.\")\n"
      ],
      "metadata": {
        "colab": {
          "base_uri": "https://localhost:8080/"
        },
        "id": "489gzQYkrBjj",
        "outputId": "7a049719-9ec8-4efd-b3a4-862523d92ec6"
      },
      "execution_count": null,
      "outputs": [
        {
          "output_type": "stream",
          "name": "stdout",
          "text": [
            "No of bases that overlap between the two sequences: 7 bases\n",
            "The new overlapping sequence: TCGGTCACTTACGAGCGTTAGGCGGTAACCCCTTAAAGTCGG\n",
            "Overlapped portion: CGTTAGG\n"
          ]
        }
      ]
    },
    {
      "cell_type": "markdown",
      "source": [
        "GI IDs from a Homo sapiens insulin (INS) mRNA, partial cds FASTA file"
      ],
      "metadata": {
        "id": "ealoPNt2D3Di"
      }
    },
    {
      "cell_type": "code",
      "source": [
        "# Define a function to collect GenInfo (GI) IDs from a FASTA file\n",
        "def collect_gi_ids(fasta_file):\n",
        "    gi_ids = []  # Initialize an empty list to store the GI IDs\n",
        "\n",
        "    # Open the FASTA file for reading\n",
        "    with open(fasta_file, \"r\") as file:\n",
        "        for line in file:\n",
        "            line = line.strip()  # Remove leading and trailing whitespaces\n",
        "\n",
        "            if line.startswith(\">\"):\n",
        "                # Extracting the GI ID from the sequence header\n",
        "                header = line[1:]  # Remove the '>' character at the beginning of the header\n",
        "                gi_id = header.split()[0]  # Assuming the GI ID is the first word in the header\n",
        "                gi_ids.append(gi_id)  # Add the GI ID to the list\n",
        "\n",
        "    return gi_ids  # Return the list of GI IDs\n",
        "\n",
        "# Usage:\n",
        "fasta_file = \"Insulin.fasta\"  # Provide the path to your FASTA file\n",
        "\n",
        "gi_ids = collect_gi_ids(fasta_file)  # Call the function to collect GI IDs\n",
        "\n",
        "# Print the GI IDs\n",
        "for gi_id in gi_ids:\n",
        "    print(\"GI ID:\", gi_id)\n"
      ],
      "metadata": {
        "colab": {
          "base_uri": "https://localhost:8080/"
        },
        "id": "JTUqIPR_rBub",
        "outputId": "cf2362fe-364e-426c-df47-1012f9aad5c8"
      },
      "execution_count": null,
      "outputs": [
        {
          "output_type": "stream",
          "name": "stdout",
          "text": [
            "GI ID: JF909299.1\n"
          ]
        }
      ]
    },
    {
      "cell_type": "markdown",
      "source": [
        "Transcription of  DNA to RNA"
      ],
      "metadata": {
        "id": "PWOUq0a34P0e"
      }
    },
    {
      "cell_type": "code",
      "source": [
        "# Define a function to transcribe DNA to RNA\n",
        "def transcribe_dna_to_rna(dna_seq):\n",
        "    rna_seq = \"\"\n",
        "    for base in dna_seq:\n",
        "        if base == \"T\":\n",
        "            rna_seq += \"U\"\n",
        "        else:\n",
        "            rna_seq += base\n",
        "    return rna_seq\n",
        "\n",
        "# Input a DNA sequence\n",
        "dna_seq = \"ATTCAGTTCTGTATTG\"\n",
        "\n",
        "# Transcribe DNA to RNA\n",
        "rna_seq = transcribe_dna_to_rna(dna_seq)\n",
        "\n",
        "# Print the RNA sequence\n",
        "print(\"RNA Sequence:\", rna_seq)\n"
      ],
      "metadata": {
        "colab": {
          "base_uri": "https://localhost:8080/"
        },
        "id": "-rMncVi-rB2t",
        "outputId": "d43eeac4-c760-4750-9b28-5c6a47f0d395"
      },
      "execution_count": null,
      "outputs": [
        {
          "output_type": "stream",
          "name": "stdout",
          "text": [
            "RNA Sequence: AUUCAGUUCUGUAUUG\n"
          ]
        }
      ]
    },
    {
      "cell_type": "markdown",
      "source": [
        "Point mutations between two DNA sequences of equal length"
      ],
      "metadata": {
        "id": "2oIF2ASirEcE"
      }
    },
    {
      "cell_type": "code",
      "source": [
        "# Define a function to count point mutations between two DNA sequences of equal length\n",
        "def count_point_mutations(seq1, seq2):\n",
        "    # Check if the lengths of the input sequences are not equal\n",
        "    if len(seq1) != len(seq2):\n",
        "        # Raise a ValueError with a custom error message\n",
        "        raise ValueError(\"Input sequences must be of the same length\")\n",
        "\n",
        "    # Initialize a variable to count mutations to 0\n",
        "    mutations = 0\n",
        "\n",
        "    # Iterate through the sequences using the zip function\n",
        "    for base1, base2 in zip(seq1, seq2):\n",
        "        # Compare the corresponding bases in the two sequences\n",
        "        if base1 != base2:\n",
        "            # If they are different, increment the mutations count by 1\n",
        "            mutations += 1\n",
        "\n",
        "    # Return the count of point mutations\n",
        "    return mutations\n",
        "\n",
        "# Example usage\n",
        "seq1 = \"GAGCCTACTAACGGGATA\"\n",
        "seq2 = \"CATCGTAATGACGGCCTG\"\n",
        "\n",
        "# Call the count_point_mutations function to count point mutations\n",
        "mutations = count_point_mutations(seq1, seq2)\n",
        "\n",
        "# Print the count of point mutations\n",
        "print(f\"No of point mutations found: {mutations}\")\n"
      ],
      "metadata": {
        "colab": {
          "base_uri": "https://localhost:8080/"
        },
        "id": "kqMx--9MrCK7",
        "outputId": "3e159a4e-fa8c-4bde-80b6-f095f42e9a0a"
      },
      "execution_count": null,
      "outputs": [
        {
          "output_type": "stream",
          "name": "stdout",
          "text": [
            "No of point mutations found: 8\n"
          ]
        }
      ]
    },
    {
      "cell_type": "markdown",
      "source": [
        " Hamming distance between two DNA sequences of equal length"
      ],
      "metadata": {
        "id": "XE3Fv4IyqAdm"
      }
    },
    {
      "cell_type": "code",
      "source": [
        "# Define a function to calculate the Hamming distance between two DNA sequences of equal length\n",
        "def hamming_distance(seq1, seq2):\n",
        "    # Check if the lengths of the input sequences are not equal\n",
        "    if len(seq1) != len(seq2):\n",
        "        # Raise a ValueError with a custom error message\n",
        "        raise ValueError(\"Input sequences must have the same length\")\n",
        "\n",
        "    # Initialize the Hamming distance to 0\n",
        "    distance = 0\n",
        "\n",
        "    # Iterate through the sequences using the zip function\n",
        "    for base1, base2 in zip(seq1, seq2):    # Zip function takes two or more sequences and pairs their elements together\n",
        "        # Compare the corresponding bases in the two sequences\n",
        "        if base1 != base2:\n",
        "            # If they are different, increment the Hamming distance by 1\n",
        "            distance += 1\n",
        "\n",
        "    # Return the calculated Hamming distance\n",
        "    return distance\n",
        "\n",
        "# Example usage\n",
        "seq1 = \"GAGCCTACTAACTGGGATA\"\n",
        "seq2 = \"CATCGTAATGACAGGCCTA\"\n",
        "\n",
        "# Call the hamming_distance function to calculate the Hamming distance\n",
        "distance = hamming_distance(seq1, seq2)\n",
        "\n",
        "# Print the Hamming distance\n",
        "print(f\"Hamming Distance: {distance}\")\n",
        "\n"
      ],
      "metadata": {
        "colab": {
          "base_uri": "https://localhost:8080/"
        },
        "id": "lfpNJi68R6bB",
        "outputId": "019267d4-2496-433f-dd1a-2a49105cadfb"
      },
      "execution_count": null,
      "outputs": [
        {
          "output_type": "stream",
          "name": "stdout",
          "text": [
            "Hamming Distance: 8\n"
          ]
        }
      ]
    },
    {
      "cell_type": "markdown",
      "source": [
        "Find GC-rich regions within a DNA sequence"
      ],
      "metadata": {
        "id": "MUNgveNendfE"
      }
    },
    {
      "cell_type": "code",
      "source": [
        "# Define a function to find GC-rich regions within a DNA sequence\n",
        "def find_gc_rich_regions(sequence, window_size, gc_threshold):\n",
        "    gc_rich_regions = []\n",
        "\n",
        "    # Iterate through the DNA sequence using a sliding window approach\n",
        "    for start in range(len(sequence) - window_size + 1):\n",
        "        # Extract a region of the sequence based on the current 'start' position and 'window_size'\n",
        "        region = sequence[start:start + window_size]\n",
        "\n",
        "        # Calculate the GC content of the extracted region\n",
        "        gc_content = (region.count('G') + region.count('C')) / window_size\n",
        "\n",
        "        # Check if the GC content of the region is greater than or equal to the specified threshold\n",
        "        if gc_content >= gc_threshold:\n",
        "            # If the region is GC-rich, add information about it (start, end, gc_content) to the gc_rich_regions list\n",
        "            gc_rich_regions.append((start, start + window_size, gc_content))\n",
        "\n",
        "    # Return the list of identified GC-rich regions\n",
        "    return gc_rich_regions\n",
        "\n",
        "# Example DNA sequence\n",
        "dna_sequence = \"ATGCGCATGCAGTACGCTAGCGCAGTGCTAGCGCATGCGCGC\"\n",
        "window_size = 15\n",
        "gc_threshold = 0.6\n",
        "\n",
        "# Call the find_gc_rich_regions function to identify GC-rich regions\n",
        "regions = find_gc_rich_regions(dna_sequence, window_size, gc_threshold)\n",
        "\n",
        "# Print the details of identified GC-rich regions\n",
        "for start, end, gc_content in regions:\n",
        "    print(f\"GC-rich Region: Start={start}, End={end}, GC Content={gc_content:.2f}\")\n"
      ],
      "metadata": {
        "id": "FZWmkOkenPMU",
        "colab": {
          "base_uri": "https://localhost:8080/"
        },
        "outputId": "6cc4050c-696c-4891-a9b3-b8d6cdceff5c"
      },
      "execution_count": null,
      "outputs": [
        {
          "output_type": "stream",
          "name": "stdout",
          "text": [
            "GC-rich Region: Start=1, End=16, GC Content=0.60\n",
            "GC-rich Region: Start=2, End=17, GC Content=0.67\n",
            "GC-rich Region: Start=3, End=18, GC Content=0.60\n",
            "GC-rich Region: Start=7, End=22, GC Content=0.60\n",
            "GC-rich Region: Start=8, End=23, GC Content=0.67\n",
            "GC-rich Region: Start=9, End=24, GC Content=0.60\n",
            "GC-rich Region: Start=10, End=25, GC Content=0.60\n",
            "GC-rich Region: Start=11, End=26, GC Content=0.60\n",
            "GC-rich Region: Start=12, End=27, GC Content=0.60\n",
            "GC-rich Region: Start=13, End=28, GC Content=0.67\n",
            "GC-rich Region: Start=14, End=29, GC Content=0.67\n",
            "GC-rich Region: Start=15, End=30, GC Content=0.60\n",
            "GC-rich Region: Start=16, End=31, GC Content=0.60\n",
            "GC-rich Region: Start=17, End=32, GC Content=0.60\n",
            "GC-rich Region: Start=18, End=33, GC Content=0.67\n",
            "GC-rich Region: Start=19, End=34, GC Content=0.73\n",
            "GC-rich Region: Start=20, End=35, GC Content=0.67\n",
            "GC-rich Region: Start=21, End=36, GC Content=0.60\n",
            "GC-rich Region: Start=22, End=37, GC Content=0.60\n",
            "GC-rich Region: Start=23, End=38, GC Content=0.60\n",
            "GC-rich Region: Start=24, End=39, GC Content=0.67\n",
            "GC-rich Region: Start=25, End=40, GC Content=0.67\n",
            "GC-rich Region: Start=26, End=41, GC Content=0.73\n",
            "GC-rich Region: Start=27, End=42, GC Content=0.73\n"
          ]
        }
      ]
    },
    {
      "cell_type": "markdown",
      "source": [
        " Function to calculate GC content of a DNA sequence"
      ],
      "metadata": {
        "id": "fbCM3Zu-mjTu"
      }
    },
    {
      "cell_type": "code",
      "source": [
        "def calculate_gc_content(dna_seq):\n",
        "    gc_count = 0\n",
        "    for base in dna_seq:\n",
        "        if base == 'G' or base == 'C':\n",
        "            gc_count += 1\n",
        "    total_bases = len(dna_seq)\n",
        "    gc_content = (gc_count / total_bases) * 100\n",
        "    return gc_content\n",
        "\n",
        "# Function to analyze the base composition of a DNA sequence\n",
        "def analyze_base_composition(dna_seq):\n",
        "    # 'analyze_base_composition' function calls the 'calculate_gc_content' function\n",
        "    gc_content = calculate_gc_content(dna_seq)\n",
        "\n",
        "    # Print the results\n",
        "    print(f\"DNA sequence: {dna_seq}\")\n",
        "    print(f\"GC Content: {gc_content:.2f}%\")\n",
        "\n",
        "\n",
        "dna_seq = \"ATGCTATGATTGCCGTGCTA\"\n",
        "analyze_base_composition(dna_seq)"
      ],
      "metadata": {
        "colab": {
          "base_uri": "https://localhost:8080/"
        },
        "id": "jyxsVhCQe9fi",
        "outputId": "d3a4afe6-7ac1-45f8-da8a-c68de78fccaf"
      },
      "execution_count": null,
      "outputs": [
        {
          "output_type": "stream",
          "name": "stdout",
          "text": [
            "DNA sequence: ATGCTATGATTGCCGTGCTA\n",
            "GC Content: 45.00%\n"
          ]
        }
      ]
    }
  ]
}